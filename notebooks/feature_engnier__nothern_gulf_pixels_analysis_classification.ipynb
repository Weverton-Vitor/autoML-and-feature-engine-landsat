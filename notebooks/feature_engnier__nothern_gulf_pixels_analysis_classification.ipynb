{
 "cells": [
  {
   "cell_type": "markdown",
   "metadata": {
    "id": "pOPnTiuUhJMg"
   },
   "source": [
    "# Northern Gulf Data Analysis\n"
   ]
  },
  {
   "cell_type": "markdown",
   "metadata": {
    "id": "X_7TEjoxhjny"
   },
   "source": [
    "##1. Mount Drive and Import Libs"
   ]
  },
  {
   "cell_type": "code",
   "execution_count": 1,
   "metadata": {
    "id": "PxA2-0hB-ixm"
   },
   "outputs": [],
   "source": [
    "!pip -q install plotly"
   ]
  },
  {
   "cell_type": "code",
   "execution_count": 5,
   "metadata": {
    "colab": {
     "base_uri": "https://localhost:8080/"
    },
    "id": "qB7anDFcYfwY",
    "outputId": "295f38f1-6737-489d-aff1-0b40c5b871f5"
   },
   "outputs": [
    {
     "name": "stdout",
     "output_type": "stream",
     "text": [
      "Looking in indexes: https://pypi.org/simple, https://packagecloud.io/github/git-lfs/pypi/simple\n",
      "Collecting pycaret==3.0\n",
      "  Using cached pycaret-3.0.0-py3-none-any.whl.metadata (16 kB)\n",
      "Requirement already satisfied: ipython>=5.5.0 in /media/weverton/D/Documentos/Faculdade/TCC/project/.venv/lib/python3.12/site-packages (from pycaret==3.0) (8.31.0)\n",
      "Collecting ipywidgets>=7.6.5 (from pycaret==3.0)\n",
      "  Using cached ipywidgets-8.1.5-py3-none-any.whl.metadata (2.3 kB)\n",
      "Requirement already satisfied: tqdm>=4.62.0 in /media/weverton/D/Documentos/Faculdade/TCC/project/.venv/lib/python3.12/site-packages (from pycaret==3.0) (4.67.1)\n",
      "Collecting numpy<1.25,>=1.21 (from pycaret==3.0)\n",
      "  Using cached numpy-1.24.4.tar.gz (10.9 MB)\n",
      "  Installing build dependencies ... \u001b[?25ldone\n",
      "\u001b[?25h  Getting requirements to build wheel ... \u001b[?25lerror\n",
      "  \u001b[1;31merror\u001b[0m: \u001b[1msubprocess-exited-with-error\u001b[0m\n",
      "  \n",
      "  \u001b[31m×\u001b[0m \u001b[32mGetting requirements to build wheel\u001b[0m did not run successfully.\n",
      "  \u001b[31m│\u001b[0m exit code: \u001b[1;36m1\u001b[0m\n",
      "  \u001b[31m╰─>\u001b[0m \u001b[31m[33 lines of output]\u001b[0m\n",
      "  \u001b[31m   \u001b[0m Traceback (most recent call last):\n",
      "  \u001b[31m   \u001b[0m   File \"/media/weverton/D/Documentos/Faculdade/TCC/project/.venv/lib/python3.12/site-packages/pip/_vendor/pyproject_hooks/_in_process/_in_process.py\", line 353, in <module>\n",
      "  \u001b[31m   \u001b[0m     main()\n",
      "  \u001b[31m   \u001b[0m   File \"/media/weverton/D/Documentos/Faculdade/TCC/project/.venv/lib/python3.12/site-packages/pip/_vendor/pyproject_hooks/_in_process/_in_process.py\", line 335, in main\n",
      "  \u001b[31m   \u001b[0m     json_out['return_val'] = hook(**hook_input['kwargs'])\n",
      "  \u001b[31m   \u001b[0m                              ^^^^^^^^^^^^^^^^^^^^^^^^^^^^\n",
      "  \u001b[31m   \u001b[0m   File \"/media/weverton/D/Documentos/Faculdade/TCC/project/.venv/lib/python3.12/site-packages/pip/_vendor/pyproject_hooks/_in_process/_in_process.py\", line 112, in get_requires_for_build_wheel\n",
      "  \u001b[31m   \u001b[0m     backend = _build_backend()\n",
      "  \u001b[31m   \u001b[0m               ^^^^^^^^^^^^^^^^\n",
      "  \u001b[31m   \u001b[0m   File \"/media/weverton/D/Documentos/Faculdade/TCC/project/.venv/lib/python3.12/site-packages/pip/_vendor/pyproject_hooks/_in_process/_in_process.py\", line 77, in _build_backend\n",
      "  \u001b[31m   \u001b[0m     obj = import_module(mod_path)\n",
      "  \u001b[31m   \u001b[0m           ^^^^^^^^^^^^^^^^^^^^^^^\n",
      "  \u001b[31m   \u001b[0m   File \"/usr/lib/python3.12/importlib/__init__.py\", line 90, in import_module\n",
      "  \u001b[31m   \u001b[0m     return _bootstrap._gcd_import(name[level:], package, level)\n",
      "  \u001b[31m   \u001b[0m            ^^^^^^^^^^^^^^^^^^^^^^^^^^^^^^^^^^^^^^^^^^^^^^^^^^^^\n",
      "  \u001b[31m   \u001b[0m   File \"<frozen importlib._bootstrap>\", line 1387, in _gcd_import\n",
      "  \u001b[31m   \u001b[0m   File \"<frozen importlib._bootstrap>\", line 1360, in _find_and_load\n",
      "  \u001b[31m   \u001b[0m   File \"<frozen importlib._bootstrap>\", line 1310, in _find_and_load_unlocked\n",
      "  \u001b[31m   \u001b[0m   File \"<frozen importlib._bootstrap>\", line 488, in _call_with_frames_removed\n",
      "  \u001b[31m   \u001b[0m   File \"<frozen importlib._bootstrap>\", line 1387, in _gcd_import\n",
      "  \u001b[31m   \u001b[0m   File \"<frozen importlib._bootstrap>\", line 1360, in _find_and_load\n",
      "  \u001b[31m   \u001b[0m   File \"<frozen importlib._bootstrap>\", line 1331, in _find_and_load_unlocked\n",
      "  \u001b[31m   \u001b[0m   File \"<frozen importlib._bootstrap>\", line 935, in _load_unlocked\n",
      "  \u001b[31m   \u001b[0m   File \"<frozen importlib._bootstrap_external>\", line 995, in exec_module\n",
      "  \u001b[31m   \u001b[0m   File \"<frozen importlib._bootstrap>\", line 488, in _call_with_frames_removed\n",
      "  \u001b[31m   \u001b[0m   File \"/tmp/pip-build-env-os9rj9o5/overlay/lib/python3.12/site-packages/setuptools/__init__.py\", line 16, in <module>\n",
      "  \u001b[31m   \u001b[0m     import setuptools.version\n",
      "  \u001b[31m   \u001b[0m   File \"/tmp/pip-build-env-os9rj9o5/overlay/lib/python3.12/site-packages/setuptools/version.py\", line 1, in <module>\n",
      "  \u001b[31m   \u001b[0m     import pkg_resources\n",
      "  \u001b[31m   \u001b[0m   File \"/tmp/pip-build-env-os9rj9o5/overlay/lib/python3.12/site-packages/pkg_resources/__init__.py\", line 2172, in <module>\n",
      "  \u001b[31m   \u001b[0m     register_finder(pkgutil.ImpImporter, find_on_path)\n",
      "  \u001b[31m   \u001b[0m                     ^^^^^^^^^^^^^^^^^^^\n",
      "  \u001b[31m   \u001b[0m AttributeError: module 'pkgutil' has no attribute 'ImpImporter'. Did you mean: 'zipimporter'?\n",
      "  \u001b[31m   \u001b[0m \u001b[31m[end of output]\u001b[0m\n",
      "  \n",
      "  \u001b[1;35mnote\u001b[0m: This error originates from a subprocess, and is likely not a problem with pip.\n",
      "\u001b[?25h\u001b[1;31merror\u001b[0m: \u001b[1msubprocess-exited-with-error\u001b[0m\n",
      "\n",
      "\u001b[31m×\u001b[0m \u001b[32mGetting requirements to build wheel\u001b[0m did not run successfully.\n",
      "\u001b[31m│\u001b[0m exit code: \u001b[1;36m1\u001b[0m\n",
      "\u001b[31m╰─>\u001b[0m See above for output.\n",
      "\n",
      "\u001b[1;35mnote\u001b[0m: This error originates from a subprocess, and is likely not a problem with pip.\n"
     ]
    }
   ],
   "source": [
    "!pip install pycaret==3.0"
   ]
  },
  {
   "cell_type": "code",
   "execution_count": 3,
   "metadata": {
    "colab": {
     "base_uri": "https://localhost:8080/"
    },
    "id": "KBvmbWMJ8npk",
    "outputId": "593211ba-8e2f-45b2-f092-bb6fbdcf748f"
   },
   "outputs": [
    {
     "name": "stdout",
     "output_type": "stream",
     "text": [
      "Looking in indexes: https://pypi.org/simple, https://packagecloud.io/github/git-lfs/pypi/simple\n",
      "Collecting ydata-profiling\n",
      "  Downloading ydata_profiling-4.12.1-py2.py3-none-any.whl.metadata (20 kB)\n",
      "Collecting scipy<1.14,>=1.4.1 (from ydata-profiling)\n",
      "  Downloading scipy-1.13.1-cp312-cp312-manylinux_2_17_x86_64.manylinux2014_x86_64.whl.metadata (60 kB)\n",
      "Requirement already satisfied: pandas!=1.4.0,<3,>1.1 in /usr/lib/python3.12 (from ydata-profiling) (2.2.3)\n",
      "Collecting matplotlib<3.10,>=3.5 (from ydata-profiling)\n",
      "  Downloading matplotlib-3.9.4-cp312-cp312-manylinux_2_17_x86_64.manylinux2014_x86_64.whl.metadata (11 kB)\n",
      "Collecting pydantic>=2 (from ydata-profiling)\n",
      "  Using cached pydantic-2.10.4-py3-none-any.whl.metadata (29 kB)\n",
      "Collecting PyYAML<6.1,>=5.0.0 (from ydata-profiling)\n",
      "  Using cached PyYAML-6.0.2-cp312-cp312-manylinux_2_17_x86_64.manylinux2014_x86_64.whl.metadata (2.1 kB)\n",
      "Collecting jinja2<3.2,>=2.11.1 (from ydata-profiling)\n",
      "  Using cached jinja2-3.1.5-py3-none-any.whl.metadata (2.6 kB)\n",
      "Collecting visions<0.7.7,>=0.7.5 (from visions[type_image_path]<0.7.7,>=0.7.5->ydata-profiling)\n",
      "  Downloading visions-0.7.6-py3-none-any.whl.metadata (11 kB)\n",
      "Requirement already satisfied: numpy<2.2,>=1.16.0 in /usr/lib/python3.12 (from ydata-profiling) (2.1.2)\n",
      "Collecting htmlmin==0.1.12 (from ydata-profiling)\n",
      "  Downloading htmlmin-0.1.12.tar.gz (19 kB)\n",
      "  Installing build dependencies ... \u001b[?25ldone\n",
      "\u001b[?25h  Getting requirements to build wheel ... \u001b[?25ldone\n",
      "\u001b[?25h  Preparing metadata (pyproject.toml) ... \u001b[?25ldone\n",
      "\u001b[?25hCollecting phik<0.13,>=0.11.1 (from ydata-profiling)\n",
      "  Downloading phik-0.12.4-cp312-cp312-manylinux_2_17_x86_64.manylinux2014_x86_64.whl.metadata (5.6 kB)\n",
      "Collecting requests<3,>=2.24.0 (from ydata-profiling)\n",
      "  Using cached requests-2.32.3-py3-none-any.whl.metadata (4.6 kB)\n",
      "Collecting tqdm<5,>=4.48.2 (from ydata-profiling)\n",
      "  Using cached tqdm-4.67.1-py3-none-any.whl.metadata (57 kB)\n",
      "Collecting seaborn<0.14,>=0.10.1 (from ydata-profiling)\n",
      "  Downloading seaborn-0.13.2-py3-none-any.whl.metadata (5.4 kB)\n",
      "Collecting multimethod<2,>=1.4 (from ydata-profiling)\n",
      "  Downloading multimethod-1.12-py3-none-any.whl.metadata (9.6 kB)\n",
      "Collecting statsmodels<1,>=0.13.2 (from ydata-profiling)\n",
      "  Downloading statsmodels-0.14.4-cp312-cp312-manylinux_2_17_x86_64.manylinux2014_x86_64.whl.metadata (9.2 kB)\n",
      "Collecting typeguard<5,>=3 (from ydata-profiling)\n",
      "  Downloading typeguard-4.4.1-py3-none-any.whl.metadata (3.7 kB)\n",
      "Collecting imagehash==4.3.1 (from ydata-profiling)\n",
      "  Downloading ImageHash-4.3.1-py2.py3-none-any.whl.metadata (8.0 kB)\n",
      "Collecting wordcloud>=1.9.3 (from ydata-profiling)\n",
      "  Downloading wordcloud-1.9.4-cp312-cp312-manylinux_2_17_x86_64.manylinux2014_x86_64.whl.metadata (3.4 kB)\n",
      "Collecting dacite>=1.8 (from ydata-profiling)\n",
      "  Downloading dacite-1.8.1-py3-none-any.whl.metadata (15 kB)\n",
      "Collecting numba<1,>=0.56.0 (from ydata-profiling)\n",
      "  Downloading numba-0.60.0-cp312-cp312-manylinux2014_x86_64.manylinux_2_17_x86_64.whl.metadata (2.7 kB)\n",
      "Collecting PyWavelets (from imagehash==4.3.1->ydata-profiling)\n",
      "  Downloading pywavelets-1.8.0-cp312-cp312-manylinux_2_17_x86_64.manylinux2014_x86_64.whl.metadata (9.0 kB)\n",
      "Collecting pillow (from imagehash==4.3.1->ydata-profiling)\n",
      "  Downloading pillow-11.1.0-cp312-cp312-manylinux_2_28_x86_64.whl.metadata (9.1 kB)\n",
      "Collecting MarkupSafe>=2.0 (from jinja2<3.2,>=2.11.1->ydata-profiling)\n",
      "  Using cached MarkupSafe-3.0.2-cp312-cp312-manylinux_2_17_x86_64.manylinux2014_x86_64.whl.metadata (4.0 kB)\n",
      "Collecting contourpy>=1.0.1 (from matplotlib<3.10,>=3.5->ydata-profiling)\n",
      "  Using cached contourpy-1.3.1-cp312-cp312-manylinux_2_17_x86_64.manylinux2014_x86_64.whl.metadata (5.4 kB)\n",
      "Collecting cycler>=0.10 (from matplotlib<3.10,>=3.5->ydata-profiling)\n",
      "  Using cached cycler-0.12.1-py3-none-any.whl.metadata (3.8 kB)\n",
      "Collecting fonttools>=4.22.0 (from matplotlib<3.10,>=3.5->ydata-profiling)\n",
      "  Downloading fonttools-4.55.3-cp312-cp312-manylinux_2_5_x86_64.manylinux1_x86_64.manylinux_2_17_x86_64.manylinux2014_x86_64.whl.metadata (165 kB)\n",
      "Collecting kiwisolver>=1.3.1 (from matplotlib<3.10,>=3.5->ydata-profiling)\n",
      "  Downloading kiwisolver-1.4.8-cp312-cp312-manylinux_2_17_x86_64.manylinux2014_x86_64.whl.metadata (6.2 kB)\n",
      "Requirement already satisfied: packaging>=20.0 in /media/weverton/D/Documentos/Faculdade/TCC/project/.venv/lib/python3.12/site-packages (from matplotlib<3.10,>=3.5->ydata-profiling) (24.2)\n",
      "Collecting pyparsing>=2.3.1 (from matplotlib<3.10,>=3.5->ydata-profiling)\n",
      "  Downloading pyparsing-3.2.1-py3-none-any.whl.metadata (5.0 kB)\n",
      "Requirement already satisfied: python-dateutil>=2.7 in /usr/lib/python3.12 (from matplotlib<3.10,>=3.5->ydata-profiling) (2.9.0.post0)\n",
      "Collecting llvmlite<0.44,>=0.43.0dev0 (from numba<1,>=0.56.0->ydata-profiling)\n",
      "  Downloading llvmlite-0.43.0-cp312-cp312-manylinux_2_17_x86_64.manylinux2014_x86_64.whl.metadata (4.8 kB)\n",
      "Collecting numpy<2.2,>=1.16.0 (from ydata-profiling)\n",
      "  Downloading numpy-2.0.2-cp312-cp312-manylinux_2_17_x86_64.manylinux2014_x86_64.whl.metadata (60 kB)\n",
      "Requirement already satisfied: pytz>=2020.1 in /usr/lib/python3.12 (from pandas!=1.4.0,<3,>1.1->ydata-profiling) (2024.2)\n",
      "Requirement already satisfied: tzdata>=2022.7 in /usr/lib/python3.12 (from pandas!=1.4.0,<3,>1.1->ydata-profiling) (2024.2)\n",
      "Requirement already satisfied: joblib>=0.14.1 in /usr/lib/python3.12 (from phik<0.13,>=0.11.1->ydata-profiling) (1.4.2)\n",
      "Collecting annotated-types>=0.6.0 (from pydantic>=2->ydata-profiling)\n",
      "  Using cached annotated_types-0.7.0-py3-none-any.whl.metadata (15 kB)\n",
      "Collecting pydantic-core==2.27.2 (from pydantic>=2->ydata-profiling)\n",
      "  Downloading pydantic_core-2.27.2-cp312-cp312-manylinux_2_17_x86_64.manylinux2014_x86_64.whl.metadata (6.6 kB)\n",
      "Collecting typing-extensions>=4.12.2 (from pydantic>=2->ydata-profiling)\n",
      "  Using cached typing_extensions-4.12.2-py3-none-any.whl.metadata (3.0 kB)\n",
      "Collecting charset-normalizer<4,>=2 (from requests<3,>=2.24.0->ydata-profiling)\n",
      "  Downloading charset_normalizer-3.4.1-cp312-cp312-manylinux_2_17_x86_64.manylinux2014_x86_64.whl.metadata (35 kB)\n",
      "Collecting idna<4,>=2.5 (from requests<3,>=2.24.0->ydata-profiling)\n",
      "  Using cached idna-3.10-py3-none-any.whl.metadata (10 kB)\n",
      "Collecting urllib3<3,>=1.21.1 (from requests<3,>=2.24.0->ydata-profiling)\n",
      "  Downloading urllib3-2.3.0-py3-none-any.whl.metadata (6.5 kB)\n",
      "Collecting certifi>=2017.4.17 (from requests<3,>=2.24.0->ydata-profiling)\n",
      "  Using cached certifi-2024.12.14-py3-none-any.whl.metadata (2.3 kB)\n",
      "Collecting patsy>=0.5.6 (from statsmodels<1,>=0.13.2->ydata-profiling)\n",
      "  Downloading patsy-1.0.1-py2.py3-none-any.whl.metadata (3.3 kB)\n",
      "Collecting attrs>=19.3.0 (from visions<0.7.7,>=0.7.5->visions[type_image_path]<0.7.7,>=0.7.5->ydata-profiling)\n",
      "  Using cached attrs-24.3.0-py3-none-any.whl.metadata (11 kB)\n",
      "Collecting networkx>=2.4 (from visions<0.7.7,>=0.7.5->visions[type_image_path]<0.7.7,>=0.7.5->ydata-profiling)\n",
      "  Using cached networkx-3.4.2-py3-none-any.whl.metadata (6.3 kB)\n",
      "Requirement already satisfied: six>=1.5 in /usr/lib/python3.12 (from python-dateutil>=2.7->matplotlib<3.10,>=3.5->ydata-profiling) (1.16.0)\n",
      "Downloading ydata_profiling-4.12.1-py2.py3-none-any.whl (390 kB)\n",
      "Downloading ImageHash-4.3.1-py2.py3-none-any.whl (296 kB)\n",
      "Downloading dacite-1.8.1-py3-none-any.whl (14 kB)\n",
      "Using cached jinja2-3.1.5-py3-none-any.whl (134 kB)\n",
      "Downloading matplotlib-3.9.4-cp312-cp312-manylinux_2_17_x86_64.manylinux2014_x86_64.whl (8.3 MB)\n",
      "\u001b[2K   \u001b[90m━━━━━━━━━━━━━━━━━━━━━━━━━━━━━━━━━━━━━━━━\u001b[0m \u001b[32m8.3/8.3 MB\u001b[0m \u001b[31m269.1 kB/s\u001b[0m eta \u001b[36m0:00:00\u001b[0m00:01\u001b[0m00:02\u001b[0m\n",
      "\u001b[?25hDownloading multimethod-1.12-py3-none-any.whl (10 kB)\n",
      "Downloading numba-0.60.0-cp312-cp312-manylinux2014_x86_64.manylinux_2_17_x86_64.whl (3.8 MB)\n",
      "\u001b[2K   \u001b[90m━━━━━━━━━━━━━━━━━━━━━━━━━━━━━━━━━━━━━━━━\u001b[0m \u001b[32m3.8/3.8 MB\u001b[0m \u001b[31m213.3 kB/s\u001b[0m eta \u001b[36m0:00:00\u001b[0m00:01\u001b[0m00:02\u001b[0m\n",
      "\u001b[?25hDownloading numpy-2.0.2-cp312-cp312-manylinux_2_17_x86_64.manylinux2014_x86_64.whl (19.2 MB)\n",
      "\u001b[2K   \u001b[90m━━━━━━━━━━━━━━━━━━━━━━━━━━━━━━━━━━━━━━━━\u001b[0m \u001b[32m19.2/19.2 MB\u001b[0m \u001b[31m581.1 kB/s\u001b[0m eta \u001b[36m0:00:00\u001b[0m00:01\u001b[0m00:02\u001b[0m\n",
      "\u001b[?25hDownloading phik-0.12.4-cp312-cp312-manylinux_2_17_x86_64.manylinux2014_x86_64.whl (687 kB)\n",
      "\u001b[2K   \u001b[90m━━━━━━━━━━━━━━━━━━━━━━━━━━━━━━━━━━━━━━━\u001b[0m \u001b[32m687.2/687.2 kB\u001b[0m \u001b[31m586.9 kB/s\u001b[0m eta \u001b[36m0:00:00\u001b[0ma \u001b[36m0:00:01\u001b[0m\n",
      "\u001b[?25hUsing cached pydantic-2.10.4-py3-none-any.whl (431 kB)\n",
      "Downloading pydantic_core-2.27.2-cp312-cp312-manylinux_2_17_x86_64.manylinux2014_x86_64.whl (2.0 MB)\n",
      "\u001b[2K   \u001b[90m━━━━━━━━━━━━━━━━━━━━━━━━━━━━━━━━━━━━━━━━\u001b[0m \u001b[32m2.0/2.0 MB\u001b[0m \u001b[31m570.5 kB/s\u001b[0m eta \u001b[36m0:00:00\u001b[0ma \u001b[36m0:00:01\u001b[0m\n",
      "\u001b[?25hUsing cached PyYAML-6.0.2-cp312-cp312-manylinux_2_17_x86_64.manylinux2014_x86_64.whl (767 kB)\n",
      "Using cached requests-2.32.3-py3-none-any.whl (64 kB)\n",
      "Downloading scipy-1.13.1-cp312-cp312-manylinux_2_17_x86_64.manylinux2014_x86_64.whl (38.2 MB)\n",
      "\u001b[2K   \u001b[90m━━━━━━━━━━━━━━━━━━━━━━━━━━━━━━━━━━━━━━━━\u001b[0m \u001b[32m38.2/38.2 MB\u001b[0m \u001b[31m811.9 kB/s\u001b[0m eta \u001b[36m0:00:00\u001b[0m00:01\u001b[0m00:02\u001b[0m\n",
      "\u001b[?25hDownloading seaborn-0.13.2-py3-none-any.whl (294 kB)\n",
      "Downloading statsmodels-0.14.4-cp312-cp312-manylinux_2_17_x86_64.manylinux2014_x86_64.whl (10.7 MB)\n",
      "\u001b[2K   \u001b[90m━━━━━━━━━━━━━━━━━━━━━━━━━━━━━━━━━━━━━━━━\u001b[0m \u001b[32m10.7/10.7 MB\u001b[0m \u001b[31m2.1 MB/s\u001b[0m eta \u001b[36m0:00:00\u001b[0m00:01\u001b[0m00:01\u001b[0m\n",
      "\u001b[?25hUsing cached tqdm-4.67.1-py3-none-any.whl (78 kB)\n",
      "Downloading typeguard-4.4.1-py3-none-any.whl (35 kB)\n",
      "Downloading visions-0.7.6-py3-none-any.whl (104 kB)\n",
      "Downloading wordcloud-1.9.4-cp312-cp312-manylinux_2_17_x86_64.manylinux2014_x86_64.whl (539 kB)\n",
      "\u001b[2K   \u001b[90m━━━━━━━━━━━━━━━━━━━━━━━━━━━━━━━━━━━━━━━━\u001b[0m \u001b[32m539.2/539.2 kB\u001b[0m \u001b[31m2.7 MB/s\u001b[0m eta \u001b[36m0:00:00\u001b[0m\n",
      "\u001b[?25hUsing cached annotated_types-0.7.0-py3-none-any.whl (13 kB)\n",
      "Using cached attrs-24.3.0-py3-none-any.whl (63 kB)\n",
      "Using cached certifi-2024.12.14-py3-none-any.whl (164 kB)\n",
      "Downloading charset_normalizer-3.4.1-cp312-cp312-manylinux_2_17_x86_64.manylinux2014_x86_64.whl (145 kB)\n",
      "Using cached contourpy-1.3.1-cp312-cp312-manylinux_2_17_x86_64.manylinux2014_x86_64.whl (323 kB)\n",
      "Using cached cycler-0.12.1-py3-none-any.whl (8.3 kB)\n",
      "Downloading fonttools-4.55.3-cp312-cp312-manylinux_2_5_x86_64.manylinux1_x86_64.manylinux_2_17_x86_64.manylinux2014_x86_64.whl (4.9 MB)\n",
      "\u001b[2K   \u001b[90m━━━━━━━━━━━━━━━━━━━━━━━━━━━━━━━━━━━━━━━━\u001b[0m \u001b[32m4.9/4.9 MB\u001b[0m \u001b[31m2.7 MB/s\u001b[0m eta \u001b[36m0:00:00\u001b[0ma \u001b[36m0:00:01\u001b[0m\n",
      "\u001b[?25hUsing cached idna-3.10-py3-none-any.whl (70 kB)\n",
      "Downloading kiwisolver-1.4.8-cp312-cp312-manylinux_2_17_x86_64.manylinux2014_x86_64.whl (1.5 MB)\n",
      "\u001b[2K   \u001b[90m━━━━━━━━━━━━━━━━━━━━━━━━━━━━━━━━━━━━━━━━\u001b[0m \u001b[32m1.5/1.5 MB\u001b[0m \u001b[31m2.9 MB/s\u001b[0m eta \u001b[36m0:00:00\u001b[0ma \u001b[36m0:00:01\u001b[0m\n",
      "\u001b[?25hDownloading llvmlite-0.43.0-cp312-cp312-manylinux_2_17_x86_64.manylinux2014_x86_64.whl (43.9 MB)\n",
      "\u001b[2K   \u001b[90m━━━━━━━━━━━━━━━━━━━━━━━━━━━━━━━━━━━━━━━━\u001b[0m \u001b[32m43.9/43.9 MB\u001b[0m \u001b[31m1.5 MB/s\u001b[0m eta \u001b[36m0:00:00\u001b[0m00:01\u001b[0m00:01\u001b[0m\n",
      "\u001b[?25hUsing cached MarkupSafe-3.0.2-cp312-cp312-manylinux_2_17_x86_64.manylinux2014_x86_64.whl (23 kB)\n",
      "Using cached networkx-3.4.2-py3-none-any.whl (1.7 MB)\n",
      "Downloading patsy-1.0.1-py2.py3-none-any.whl (232 kB)\n",
      "Downloading pillow-11.1.0-cp312-cp312-manylinux_2_28_x86_64.whl (4.5 MB)\n",
      "\u001b[2K   \u001b[90m━━━━━━━━━━━━━━━━━━━━━━━━━━━━━━━━━━━━━━━━\u001b[0m \u001b[32m4.5/4.5 MB\u001b[0m \u001b[31m1.2 MB/s\u001b[0m eta \u001b[36m0:00:00\u001b[0ma \u001b[36m0:00:01\u001b[0m0m\n",
      "\u001b[?25hDownloading pyparsing-3.2.1-py3-none-any.whl (107 kB)\n",
      "Using cached typing_extensions-4.12.2-py3-none-any.whl (37 kB)\n",
      "Downloading urllib3-2.3.0-py3-none-any.whl (128 kB)\n",
      "Downloading pywavelets-1.8.0-cp312-cp312-manylinux_2_17_x86_64.manylinux2014_x86_64.whl (4.4 MB)\n",
      "\u001b[2K   \u001b[90m━━━━━━━━━━━━━━━━━━━━━━━━━━━━━━━━━━━━━━━━\u001b[0m \u001b[32m4.4/4.4 MB\u001b[0m \u001b[31m1.5 MB/s\u001b[0m eta \u001b[36m0:00:00\u001b[0ma \u001b[36m0:00:01\u001b[0m\n",
      "\u001b[?25hBuilding wheels for collected packages: htmlmin\n",
      "  Building wheel for htmlmin (pyproject.toml) ... \u001b[?25ldone\n",
      "\u001b[?25h  Created wheel for htmlmin: filename=htmlmin-0.1.12-py3-none-any.whl size=27081 sha256=61fb1b67503efb867f063e6db33c077f9ca21283fc1c43c8f7c8998ad162be76\n",
      "  Stored in directory: /home/weverton/.cache/pip/wheels/5f/d4/d7/4189b07b5902ee9f3ce0dbb14909fbe8037c39d6c63ffd49c9\n",
      "Successfully built htmlmin\n",
      "Installing collected packages: htmlmin, urllib3, typing-extensions, tqdm, PyYAML, pyparsing, pillow, numpy, networkx, multimethod, MarkupSafe, llvmlite, kiwisolver, idna, fonttools, dacite, cycler, charset-normalizer, certifi, attrs, annotated-types, typeguard, scipy, requests, PyWavelets, pydantic-core, patsy, numba, jinja2, contourpy, visions, statsmodels, pydantic, matplotlib, imagehash, wordcloud, seaborn, phik, ydata-profiling\n",
      "  Attempting uninstall: numpy\n",
      "    Found existing installation: numpy 2.1.2\n",
      "    Not uninstalling numpy at /usr/lib/python3.12, outside environment /media/weverton/D/Documentos/Faculdade/TCC/project/.venv\n",
      "    Can't uninstall 'numpy'. No files were found to uninstall.\n",
      "  Attempting uninstall: scipy\n",
      "    Found existing installation: scipy 1.14.1\n",
      "    Not uninstalling scipy at /usr/lib/python3.12, outside environment /media/weverton/D/Documentos/Faculdade/TCC/project/.venv\n",
      "    Can't uninstall 'scipy'. No files were found to uninstall.\n",
      "Successfully installed MarkupSafe-3.0.2 PyWavelets-1.8.0 PyYAML-6.0.2 annotated-types-0.7.0 attrs-24.3.0 certifi-2024.12.14 charset-normalizer-3.4.1 contourpy-1.3.1 cycler-0.12.1 dacite-1.8.1 fonttools-4.55.3 htmlmin-0.1.12 idna-3.10 imagehash-4.3.1 jinja2-3.1.5 kiwisolver-1.4.8 llvmlite-0.43.0 matplotlib-3.9.4 multimethod-1.12 networkx-3.4.2 numba-0.60.0 numpy-2.0.2 patsy-1.0.1 phik-0.12.4 pillow-11.1.0 pydantic-2.10.4 pydantic-core-2.27.2 pyparsing-3.2.1 requests-2.32.3 scipy-1.13.1 seaborn-0.13.2 statsmodels-0.14.4 tqdm-4.67.1 typeguard-4.4.1 typing-extensions-4.12.2 urllib3-2.3.0 visions-0.7.6 wordcloud-1.9.4 ydata-profiling-4.12.1\n"
     ]
    }
   ],
   "source": [
    "!pip install ydata-profiling"
   ]
  },
  {
   "cell_type": "code",
   "execution_count": 4,
   "metadata": {
    "colab": {
     "base_uri": "https://localhost:8080/",
     "height": 564
    },
    "id": "qvxMxrP3Gbca",
    "outputId": "9439a683-11fe-4799-8ffa-ced8a2708808"
   },
   "outputs": [
    {
     "ename": "ModuleNotFoundError",
     "evalue": "No module named 'pycaret'",
     "output_type": "error",
     "traceback": [
      "\u001b[0;31m---------------------------------------------------------------------------\u001b[0m",
      "\u001b[0;31mModuleNotFoundError\u001b[0m                       Traceback (most recent call last)",
      "Cell \u001b[0;32mIn[4], line 6\u001b[0m\n\u001b[1;32m      4\u001b[0m \u001b[38;5;28;01mimport\u001b[39;00m\u001b[38;5;250m \u001b[39m\u001b[38;5;21;01mmatplotlib\u001b[39;00m\u001b[38;5;21;01m.\u001b[39;00m\u001b[38;5;21;01mpyplot\u001b[39;00m\u001b[38;5;250m \u001b[39m\u001b[38;5;28;01mas\u001b[39;00m\u001b[38;5;250m \u001b[39m\u001b[38;5;21;01mplt\u001b[39;00m\n\u001b[1;32m      5\u001b[0m \u001b[38;5;28;01mimport\u001b[39;00m\u001b[38;5;250m \u001b[39m\u001b[38;5;21;01mplotly\u001b[39;00m\u001b[38;5;21;01m.\u001b[39;00m\u001b[38;5;21;01mexpress\u001b[39;00m\u001b[38;5;250m \u001b[39m\u001b[38;5;28;01mas\u001b[39;00m\u001b[38;5;250m \u001b[39m\u001b[38;5;21;01mpx\u001b[39;00m\n\u001b[0;32m----> 6\u001b[0m \u001b[38;5;28;01mfrom\u001b[39;00m\u001b[38;5;250m \u001b[39m\u001b[38;5;21;01mpycaret\u001b[39;00m\u001b[38;5;21;01m.\u001b[39;00m\u001b[38;5;21;01mclassification\u001b[39;00m\u001b[38;5;250m \u001b[39m\u001b[38;5;28;01mimport\u001b[39;00m \u001b[38;5;241m*\u001b[39m\n\u001b[1;32m      8\u001b[0m \u001b[38;5;28;01mfrom\u001b[39;00m\u001b[38;5;250m \u001b[39m\u001b[38;5;21;01msklearn\u001b[39;00m\u001b[38;5;21;01m.\u001b[39;00m\u001b[38;5;21;01mmodel_selection\u001b[39;00m\u001b[38;5;250m \u001b[39m\u001b[38;5;28;01mimport\u001b[39;00m train_test_split\n\u001b[1;32m      9\u001b[0m \u001b[38;5;28;01mfrom\u001b[39;00m\u001b[38;5;250m \u001b[39m\u001b[38;5;21;01msklearn\u001b[39;00m\u001b[38;5;21;01m.\u001b[39;00m\u001b[38;5;21;01mmetrics\u001b[39;00m\u001b[38;5;250m \u001b[39m\u001b[38;5;28;01mimport\u001b[39;00m accuracy_score, f1_score, make_scorer, roc_auc_score, confusion_matrix, classification_report, ConfusionMatrixDisplay\n",
      "\u001b[0;31mModuleNotFoundError\u001b[0m: No module named 'pycaret'"
     ]
    }
   ],
   "source": [
    "import pandas as pd\n",
    "import numpy as np\n",
    "import seaborn as sns\n",
    "import matplotlib.pyplot as plt\n",
    "import plotly.express as px\n",
    "from pycaret.classification import *\n",
    "\n",
    "from sklearn.model_selection import train_test_split\n",
    "from sklearn.metrics import accuracy_score, f1_score, make_scorer, roc_auc_score, confusion_matrix, classification_report, ConfusionMatrixDisplay\n",
    "\n",
    "from ydata_profiling import ProfileReport"
   ]
  },
  {
   "cell_type": "markdown",
   "metadata": {
    "id": "PuM3woG3hs2Q"
   },
   "source": [
    "## 2. Explore the data"
   ]
  },
  {
   "cell_type": "code",
   "execution_count": null,
   "metadata": {
    "id": "9bpJTePEjE8O"
   },
   "outputs": [],
   "source": [
    "data_path = \"/../data/extracted_points.csv\""
   ]
  },
  {
   "cell_type": "code",
   "execution_count": null,
   "metadata": {
    "id": "d4GcDChQhsNG"
   },
   "outputs": [],
   "source": [
    "raw_pixel_northern_gulf = pd.read_csv(data_path)"
   ]
  },
  {
   "cell_type": "code",
   "execution_count": null,
   "metadata": {
    "id": "E-3UMHoZ8lEi"
   },
   "outputs": [],
   "source": [
    "profile = ProfileReport(raw_pixel_northern_gulf)\n",
    "profile.to_notebook_iframe()"
   ]
  },
  {
   "cell_type": "code",
   "execution_count": null,
   "metadata": {
    "id": "7MbEbXsSiHqm"
   },
   "outputs": [],
   "source": [
    "# Show all sheets\n",
    "raw_pixel_northern_gulf.head()"
   ]
  },
  {
   "cell_type": "code",
   "execution_count": null,
   "metadata": {
    "id": "aduxkLEjjri2"
   },
   "outputs": [],
   "source": [
    "raw_pixel_northern_gulf.info()"
   ]
  },
  {
   "cell_type": "code",
   "execution_count": null,
   "metadata": {
    "id": "QGtturP14pVG"
   },
   "outputs": [],
   "source": [
    "raw_pixel_northern_gulf.describe()"
   ]
  },
  {
   "cell_type": "markdown",
   "metadata": {
    "id": "CmKtNj3tMBFw"
   },
   "source": [
    "##IET"
   ]
  },
  {
   "cell_type": "markdown",
   "metadata": {
    "id": "2okwTP8sP9lp"
   },
   "source": [
    "![image.png](data:image/png;base64,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)"
   ]
  },
  {
   "cell_type": "markdown",
   "metadata": {
    "id": "KWoBPayIQCJo"
   },
   "source": [
    "> SERBETO, Larissa Ferreira et al. Determinação da Concentração de Clorofila-a por Sensoriamento Remoto no Reservatório de Chapéu d’Úvas (Mg), Brasil. Revista Brasileira de Geografia Física, v. 14, n. 6, p. 3561-3576, 2021.\n",
    "\n",
    "> [SETESB - Companhia ambiental do estado de São Paulo: IET](https://www.cetesb.sp.gov.br/aguas-interiores/wp-content/uploads/sites/12/2013/11/04.pdf)\n",
    "\n",
    "\n",
    "\n"
   ]
  },
  {
   "cell_type": "code",
   "execution_count": null,
   "metadata": {
    "id": "_2ocinOqMw8r"
   },
   "outputs": [],
   "source": [
    "import math\n",
    "\n",
    "def iet_chla(chla):\n",
    "    return 10 * (6 - ((0.92 - 0.34 * math.log(chla)) / math.log(2)))\n",
    "\n",
    "def iet_tp(tp):\n",
    "    return 10 * (6 - ((1.77 - 0.42 * math.log(tp)) / math.log(2)))\n",
    "\n",
    "def iet_total(chla, tp):\n",
    "    return (iet_chla(chla) + iet_tp(tp)) / 2"
   ]
  },
  {
   "cell_type": "code",
   "execution_count": null,
   "metadata": {
    "id": "ZQgiBGCRNhjh"
   },
   "outputs": [],
   "source": [
    "raw_pixel_northern_gulf['iet_CHLA'] = raw_pixel_northern_gulf['ChlA'].apply(iet_chla)\n",
    "# raw_mobile_bay_data['iet_tp'] = raw_mobile_bay_data['TP'].apply(iet_tp)\n",
    "# raw_mobile_bay_data['iet'] = raw_mobile_bay_data.apply(lambda row: iet_total(row['ChlA'], row['TP']), axis=1)"
   ]
  },
  {
   "cell_type": "code",
   "execution_count": null,
   "metadata": {
    "id": "DersgxIaKoso"
   },
   "outputs": [],
   "source": [
    "raw_pixel_northern_gulf.info()"
   ]
  },
  {
   "cell_type": "markdown",
   "metadata": {
    "id": "Jtj2zDxuQfS2"
   },
   "source": []
  },
  {
   "cell_type": "markdown",
   "metadata": {
    "id": "TelOyriIQe79"
   },
   "source": [
    "![image.png](data:image/png;base64,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)"
   ]
  },
  {
   "cell_type": "markdown",
   "metadata": {
    "id": "YFXXKCNiRWJZ"
   },
   "source": [
    "> SERBETO, Larissa Ferreira et al. Determinação da Concentração de Clorofila-a por Sensoriamento Remoto no Reservatório de Chapéu d’Úvas (Mg), Brasil. Revista Brasileira de Geografia Física, v. 14, n. 6, p. 3561-3576, 2021.\n",
    "---"
   ]
  },
  {
   "cell_type": "markdown",
   "metadata": {
    "id": "JzSrqohUZQlw"
   },
   "source": [
    "![image.png](data:image/png;base64,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)"
   ]
  },
  {
   "cell_type": "markdown",
   "metadata": {
    "id": "Y-94jwUrZZKF"
   },
   "source": [
    "> [SETESB - Companhia ambiental do estado de São Paulo: IET](https://www.cetesb.sp.gov.br/aguas-interiores/wp-content/uploads/sites/12/2013/11/04.pdf)\n",
    "---"
   ]
  },
  {
   "cell_type": "markdown",
   "metadata": {
    "id": "4RTgKpHzZT9Z"
   },
   "source": [
    "\n",
    "* 1 = Ultraoligotrófico\n",
    "* 2 = Oligotrófico\n",
    "* 3 = Mesotrófico\n",
    "* 4 = Eutrófico\n",
    "* 5 = Supereutrófico\n",
    "* 6 = Hipereutrófico"
   ]
  },
  {
   "cell_type": "code",
   "execution_count": null,
   "metadata": {
    "id": "lP7I0K0ZQgNw"
   },
   "outputs": [],
   "source": [
    "bins = [-float('inf'), 47, 52, 59, 63, 67, float('inf')]\n",
    "labels = [1, 2, 3, 4, 5, 6]\n",
    "\n",
    "# TS: Trophic State\n",
    "raw_pixel_northern_gulf['TS'] = pd.cut(raw_pixel_northern_gulf['iet_CHLA'], bins=bins, labels=labels, right=True)"
   ]
  },
  {
   "cell_type": "code",
   "execution_count": null,
   "metadata": {
    "id": "EIddXmwjSNsd"
   },
   "outputs": [],
   "source": [
    "raw_pixel_northern_gulf.info()"
   ]
  },
  {
   "cell_type": "markdown",
   "metadata": {
    "id": "hxtZu-2mox16"
   },
   "source": [
    "## Preprocessing\n"
   ]
  },
  {
   "cell_type": "markdown",
   "metadata": {
    "id": "M3akpsuBC27D"
   },
   "source": [
    "#### Selecting the experiment's fields\n"
   ]
  },
  {
   "cell_type": "code",
   "execution_count": null,
   "metadata": {
    "id": "55DAzr-xAb6Q"
   },
   "outputs": [],
   "source": [
    "experiment1_data = raw_pixel_northern_gulf.drop(columns=['lat', 'lon','QA_PIXEL', 'QA_PIXEL', 'date', 'scene_id', \"name\", \"Unnamed: 0\", \"ChlA\", \"iet_CHLA\"])"
   ]
  },
  {
   "cell_type": "code",
   "execution_count": null,
   "metadata": {
    "id": "CrfHwJ2XA3aD"
   },
   "outputs": [],
   "source": [
    "experiment1_data.info()"
   ]
  },
  {
   "cell_type": "code",
   "execution_count": null,
   "metadata": {
    "id": "5S2ydIkETHtW"
   },
   "outputs": [],
   "source": [
    "experiment1_corr = experiment1_data.corr()\n",
    "plt.figure(figsize=(20, 10))\n",
    "sns.heatmap(experiment1_corr,\n",
    "            annot=True,\n",
    "            fmt=\".2f\",\n",
    "            cmap=\"RdBu_r\",)"
   ]
  },
  {
   "cell_type": "code",
   "execution_count": null,
   "metadata": {
    "id": "BD68DYabYlPv"
   },
   "outputs": [],
   "source": [
    " experiment1_data['TS'].value_counts()"
   ]
  },
  {
   "cell_type": "code",
   "execution_count": null,
   "metadata": {
    "id": "rZ0qH8gUYFJ-"
   },
   "outputs": [],
   "source": [
    "class_counts = experiment1_data['TS'].value_counts()\n",
    "plt.figure(figsize=(8, 6))\n",
    "plt.bar(class_counts.index, class_counts.values)\n",
    "plt.xlabel('Classe de Estado Trófico')\n",
    "plt.ylabel('Número de Amostras')\n",
    "plt.title('Balanceamento das Classes de Estado Trófico')\n",
    "plt.show()\n"
   ]
  },
  {
   "cell_type": "code",
   "execution_count": null,
   "metadata": {
    "id": "m6NNDkWXCy3a"
   },
   "outputs": [],
   "source": [
    "experiment1_data.plot(kind=\"density\",\n",
    "          subplots=True,\n",
    "          sharex=False,\n",
    "          layout=(10,4),\n",
    "          figsize=(15,15))\n",
    "plt.tight_layout()\n",
    "plt.show()"
   ]
  },
  {
   "cell_type": "markdown",
   "metadata": {
    "id": "mgZcqKKl4fqK"
   },
   "source": [
    "#### Split and normalize the data"
   ]
  },
  {
   "cell_type": "code",
   "execution_count": null,
   "metadata": {
    "id": "JtpECyiP4eTP"
   },
   "outputs": [],
   "source": [
    "# Get the default field\n",
    "X, y = experiment1_data.drop(columns=['TS']), experiment1_data['TS']\n",
    "\n",
    "X_train, X_test, y_train, y_test = train_test_split(X, y, test_size=0.3, random_state=42)\n",
    "print(f\"X_train: {X_train.shape}, y_train: {y_train.shape}\")\n",
    "print(f\"X_test: {X_test.shape}, y_test: {y_test.shape}\")"
   ]
  },
  {
   "cell_type": "code",
   "execution_count": null,
   "metadata": {
    "id": "XQYAqroDiP4a"
   },
   "outputs": [],
   "source": [
    "from sklearn.preprocessing import MinMaxScaler\n",
    "\n",
    "# Initialize the scaler\n",
    "scaler = MinMaxScaler()\n",
    "\n",
    "# Fit the scaler on the training data only\n",
    "scaler.fit(X_train)\n",
    "\n",
    "# Transform both the training and testing data using the fitted scaler\n",
    "X_train_scaled = scaler.transform(X_train)\n",
    "X_test_scaled = scaler.transform(X_test)\n",
    "\n",
    "# Convert the scaled data back to DataFrames (optional but recommended)\n",
    "X_train = pd.DataFrame(X_train_scaled, columns=X_train.columns)\n",
    "X_test = pd.DataFrame(X_test_scaled, columns=X_test.columns)\n",
    "\n",
    "print(f\"X_train scaled: {X_train.shape}, y_train: {y_train.shape}\")\n",
    "print(f\"X_test scaled: {X_test.shape}, y_test: {y_test.shape}\")"
   ]
  },
  {
   "cell_type": "markdown",
   "metadata": {
    "id": "w4d6Ucd2IQug"
   },
   "source": [
    "### Decicion Tree\n"
   ]
  },
  {
   "cell_type": "markdown",
   "metadata": {
    "id": "7aX_YQaWRDT9"
   },
   "source": [
    "## PyCaret"
   ]
  },
  {
   "cell_type": "code",
   "execution_count": null,
   "metadata": {
    "id": "cP1bdXdgJtL5"
   },
   "outputs": [],
   "source": [
    "train_test_pycaret = experiment1_data.groupby('TS').filter(lambda x : len(x) > 1)"
   ]
  },
  {
   "cell_type": "code",
   "execution_count": null,
   "metadata": {
    "id": "YihYuqQpJ_h7"
   },
   "outputs": [],
   "source": [
    "train_test_pycaret['TS'].value_counts()"
   ]
  },
  {
   "cell_type": "code",
   "execution_count": null,
   "metadata": {
    "id": "6X4mT7RC2KGe"
   },
   "outputs": [],
   "source": [
    "from pycaret.classification import *\n",
    "clf1 = setup(data=train_test_pycaret,\n",
    "             target = 'TS',\n",
    "             normalize=True,\n",
    "             normalize_method='minmax',\n",
    "             group_features=['SR_B2','SR_B3', 'SR_B1', 'SR_B4', 'SR_B5', 'SR_B7'],\n",
    "             session_id=123)"
   ]
  },
  {
   "cell_type": "code",
   "execution_count": null,
   "metadata": {
    "id": "qdRGqAZpCS65"
   },
   "outputs": [],
   "source": [
    "X_test_pycaret = get_config('X_test_transformed')\n",
    "y_test_pycaret = get_config('y_test_transformed')\n",
    "\n",
    "y_train = get_config('y_train_transformed')"
   ]
  },
  {
   "cell_type": "code",
   "execution_count": null,
   "metadata": {
    "id": "01ZzFfLzGqit"
   },
   "outputs": [],
   "source": [
    "class_counts_test = pd.Series(y_test_pycaret).value_counts(normalize=True) * 100\n",
    "class_counts_test"
   ]
  },
  {
   "cell_type": "code",
   "execution_count": null,
   "metadata": {
    "id": "YtFprGxCICPJ"
   },
   "outputs": [],
   "source": [
    "class_counts_train = pd.Series(y_train).value_counts(normalize=True) * 100\n",
    "class_counts_train"
   ]
  },
  {
   "cell_type": "code",
   "execution_count": null,
   "metadata": {
    "id": "JFiXZmCAKA81"
   },
   "outputs": [],
   "source": [
    "best_model = compare_models()"
   ]
  },
  {
   "cell_type": "code",
   "execution_count": null,
   "metadata": {
    "id": "vc7XAlTc5wAY"
   },
   "outputs": [],
   "source": [
    "print(best_model)"
   ]
  },
  {
   "cell_type": "code",
   "execution_count": null,
   "metadata": {
    "id": "e0nWuxlx5I8i"
   },
   "outputs": [],
   "source": [
    "evaluate_model(best_model)"
   ]
  },
  {
   "cell_type": "code",
   "execution_count": null,
   "metadata": {
    "id": "cXE4aX4A5t0K"
   },
   "outputs": [],
   "source": [
    "predictions_df = predict_model(best_model, data=X_test_pycaret)"
   ]
  },
  {
   "cell_type": "code",
   "execution_count": null,
   "metadata": {
    "id": "umNa_YjbKhj9"
   },
   "outputs": [],
   "source": [
    "predictions_df.head()"
   ]
  },
  {
   "cell_type": "code",
   "execution_count": null,
   "metadata": {
    "id": "pXOZ_pqQ531I"
   },
   "outputs": [],
   "source": [
    "# Classification report\n",
    "print(classification_report(y_test_pycaret, predictions_df['prediction_label']))"
   ]
  },
  {
   "cell_type": "code",
   "execution_count": null,
   "metadata": {
    "id": "TNyfhYleBkn4"
   },
   "outputs": [],
   "source": []
  }
 ],
 "metadata": {
  "colab": {
   "collapsed_sections": [
    "X_7TEjoxhjny",
    "PuM3woG3hs2Q",
    "hxtZu-2mox16",
    "7aX_YQaWRDT9"
   ],
   "provenance": [],
   "toc_visible": true
  },
  "kernelspec": {
   "display_name": ".venv",
   "language": "python",
   "name": "python3"
  },
  "language_info": {
   "codemirror_mode": {
    "name": "ipython",
    "version": 3
   },
   "file_extension": ".py",
   "mimetype": "text/x-python",
   "name": "python",
   "nbconvert_exporter": "python",
   "pygments_lexer": "ipython3",
   "version": "3.12.3"
  }
 },
 "nbformat": 4,
 "nbformat_minor": 0
}
